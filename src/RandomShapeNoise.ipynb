{
 "cells": [
  {
   "cell_type": "code",
   "execution_count": 1,
   "outputs": [],
   "source": [
    "from PIL import Image, ImageDraw\n",
    "import numpy as np\n",
    "import random\n",
    "\n",
    "def compute_color_distribution(image):\n",
    "    data = np.array(image)\n",
    "\n",
    "    unique, counts = np.unique(data.reshape(-1, 3), axis=0, return_counts=True)\n",
    "    frequency = counts / counts.sum()\n",
    "\n",
    "    return unique, frequency\n",
    "\n",
    "def generate_noise_from_distribution(unique_colors, frequency, image_size):\n",
    "    noise_image_data = np.random.choice(len(unique_colors), size=image_size[0]*image_size[1], p=frequency)\n",
    "    noise_image = np.array([unique_colors[i] for i in noise_image_data]).reshape(image_size[1], image_size[0], 3)\n",
    "\n",
    "    return Image.fromarray(np.uint8(noise_image))\n",
    "\n",
    "def process_image(image_path):\n",
    "    image = Image.open(image_path)\n",
    "\n",
    "    unique_colors, frequency = compute_color_distribution(image)\n",
    "\n",
    "    noise_image = generate_noise_from_distribution(unique_colors, frequency, image.size)\n",
    "\n",
    "    return noise_image"
   ],
   "metadata": {
    "collapsed": false,
    "ExecuteTime": {
     "end_time": "2023-12-02T07:28:02.898707800Z",
     "start_time": "2023-12-02T07:28:02.663681400Z"
    }
   },
   "id": "2e6cb8bf02130dc0"
  },
  {
   "cell_type": "code",
   "execution_count": 20,
   "outputs": [],
   "source": [
    "img = process_image('Landscape-Color.jpg')\n",
    "\n",
    "img.show()"
   ],
   "metadata": {
    "collapsed": false,
    "ExecuteTime": {
     "end_time": "2023-12-01T16:16:41.637003200Z",
     "start_time": "2023-12-01T16:16:36.705935600Z"
    }
   },
   "id": "458a0eb08578e9cb"
  },
  {
   "cell_type": "code",
   "execution_count": 33,
   "outputs": [],
   "source": [
    "def generate_random_shapes_image(unique_colors, image_size, number_of_shapes):\n",
    "    bg_color = tuple(random.choice(unique_colors))\n",
    "\n",
    "    new_image = Image.new('RGB', image_size, color=bg_color)\n",
    "    draw = ImageDraw.Draw(new_image)\n",
    "\n",
    "    for _ in range(number_of_shapes):\n",
    "        color = tuple(random.choice(unique_colors))\n",
    "\n",
    "        while color == bg_color:\n",
    "            color = tuple(random.choice(unique_colors))\n",
    "\n",
    "        x1, y1 = random.randint(0, image_size[0]), random.randint(0, image_size[1])\n",
    "        x2, y2 = random.randint(x1, image_size[0]), random.randint(y1, image_size[1])\n",
    "\n",
    "        shape_types = [\n",
    "            'rectangle', 'ellipse', 'circle', 'triangle', \n",
    "            'polygon', 'line', 'arc', 'chord'\n",
    "        ]\n",
    "        shape_type = random.choice(shape_types)\n",
    "\n",
    "        if shape_type == 'rectangle':\n",
    "            draw.rectangle([x1, y1, x2, y2], fill=color)\n",
    "        elif shape_type == 'ellipse':\n",
    "            draw.ellipse([x1, y1, x2, y2], fill=color)\n",
    "        elif shape_type == 'circle':\n",
    "            radius = min(x2 - x1, y2 - y1) // 2\n",
    "            center = (x1 + radius, y1 + radius)\n",
    "            draw.ellipse([center[0] - radius, center[1] - radius, center[0] + radius, center[1] + radius], fill=color)\n",
    "        elif shape_type == 'triangle':\n",
    "            draw.polygon([x1, y2, (x1 + x2) // 2, y1, x2, y2], fill=color)\n",
    "        elif shape_type == 'polygon':\n",
    "            num_points = random.randint(3, 10)  # Polygons with 3 to 10 sides\n",
    "            points = [(random.randint(x1, x2), random.randint(y1, y2)) for _ in range(num_points)]\n",
    "            draw.polygon(points, fill=color)\n",
    "        elif shape_type == 'line':\n",
    "            draw.line([x1, y1, x2, y2], fill=color, width=3)\n",
    "        elif shape_type == 'arc':\n",
    "            draw.arc([x1, y1, x2, y2], start=0, end=180, fill=color)\n",
    "        elif shape_type == 'chord':\n",
    "            draw.chord([x1, y1, x2, y2], start=0, end=180, fill=color)\n",
    "\n",
    "    return new_image\n",
    "\n",
    "img_path = 'Landscape-Color.jpg'\n",
    "original_image = Image.open(img_path)\n",
    "unique_colors = compute_color_distribution(original_image)\n",
    "\n",
    "number_of_shapes = 1000  \n",
    "shapes_image = generate_random_shapes_image(unique_colors, original_image.size, number_of_shapes)\n",
    "shapes_image.show()\n"
   ],
   "metadata": {
    "collapsed": false,
    "ExecuteTime": {
     "end_time": "2023-12-01T19:25:43.390404700Z",
     "start_time": "2023-12-01T19:25:39.321356700Z"
    }
   },
   "id": "56aa329a8c132b29"
  }
 ],
 "metadata": {
  "kernelspec": {
   "display_name": "Python 3",
   "language": "python",
   "name": "python3"
  },
  "language_info": {
   "codemirror_mode": {
    "name": "ipython",
    "version": 2
   },
   "file_extension": ".py",
   "mimetype": "text/x-python",
   "name": "python",
   "nbconvert_exporter": "python",
   "pygments_lexer": "ipython2",
   "version": "2.7.6"
  }
 },
 "nbformat": 4,
 "nbformat_minor": 5
}
